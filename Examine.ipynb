{
 "cells": [
  {
   "cell_type": "code",
   "execution_count": 3,
   "id": "02451be5",
   "metadata": {},
   "outputs": [
    {
     "name": "stdout",
     "output_type": "stream",
     "text": [
      "   createTime                                               desc  digged  \\\n",
      "0  1583422329               How is #COVID19 spread? #coronavirus   False   \n",
      "1  1583778419  Coronavirus: When do you need to wash your han...   False   \n",
      "2  1583429593  Coronavirus Outbreak: Top Tips! #coronavirus #...   False   \n",
      "3  1583522854  Coronavirus: Myth busting! #coronavirus #covid...   False   \n",
      "4  1579703414  You may have heard of #coronavirus. Here are s...   False   \n",
      "\n",
      "   duetDisplay  duetEnabled  officalItem  originalItem  \\\n",
      "0            0        False        False         False   \n",
      "1            0         True        False         False   \n",
      "2            0        False        False         False   \n",
      "3            0        False        False         False   \n",
      "4            0        False        False         False   \n",
      "\n",
      "                                      stickersOnItem  stitchDisplay  \\\n",
      "0                                               None              0   \n",
      "1                                               None              0   \n",
      "2                                               None              0   \n",
      "3                                               None              0   \n",
      "4  [{'stickerText': ['Coronavirus', 'Wash your ha...              0   \n",
      "\n",
      "   stitchEnabled  ... author_stat.friendCount author_stat.heart  \\\n",
      "0           True  ...                       0          10200000   \n",
      "1           True  ...                       0          16800000   \n",
      "2           True  ...                       0          16800000   \n",
      "3           True  ...                       0          16800000   \n",
      "4           True  ...                       0          12000000   \n",
      "\n",
      "   author_stat.heartCount  author_stat.videoCount  stats.collectCount  \\\n",
      "0                10200000                     361               13300   \n",
      "1                16800000                    1175                 784   \n",
      "2                16800000                    1175                 580   \n",
      "3                16800000                    1175                 444   \n",
      "4                12000000                     521               10300   \n",
      "\n",
      "   stats.commentCount stats.diggCount  stats.playCount  stats.shareCount  \\\n",
      "0                3203          541800         18900000             39500   \n",
      "1                 232           33000           646700               525   \n",
      "2                 132           25600           432500               416   \n",
      "3                 154           25300           463900               397   \n",
      "4                2381          439700          9300000              7322   \n",
      "\n",
      "  author.roomId  \n",
      "0           NaN  \n",
      "1           NaN  \n",
      "2           NaN  \n",
      "3           NaN  \n",
      "4           NaN  \n",
      "\n",
      "[5 rows x 43 columns]\n"
     ]
    }
   ],
   "source": [
    "import pandas as pd\n",
    "import json\n",
    "from pandas.io.json import json_normalize\n",
    "\n",
    "# Load JSON file into DataFrame\n",
    "with open('test_1.json', 'r') as file:\n",
    "    json_data = file.read()\n",
    "    \n",
    "parsed_data = json.loads(json_data)\n",
    "\n",
    "# Normalize JSON data into a DataFrame\n",
    "df = pd.json_normalize(parsed_data)\n",
    "\n",
    "# Now you have a DataFrame ready for further processing\n",
    "print(df.head())"
   ]
  },
  {
   "cell_type": "code",
   "execution_count": null,
   "id": "5edb0af0",
   "metadata": {},
   "outputs": [],
   "source": [
    "print()"
   ]
  },
  {
   "cell_type": "code",
   "execution_count": null,
   "id": "05ce7370",
   "metadata": {},
   "outputs": [],
   "source": [
    "# new_df = pd.DataFrame()\n",
    "\n",
    "# # Iterate over each column in the original DataFrame\n",
    "# for column_name, column_data in df.iteritems():\n",
    "#     # Check if the column contains dictionary data\n",
    "#     if all(isinstance(value, dict) for value in column_data):\n",
    "#         # If it does, expand the dictionary into separate columns\n",
    "#         for dict_data in column_data:\n",
    "#             for key, value in dict_data.items():\n",
    "#                 # Add new column to new DataFrame\n",
    "#                 new_df[key] = new_df.get(key, []).append(value)\n",
    "#     else:\n",
    "#         # If it doesn't contain dictionary data, simply copy the column\n",
    "#         new_df[column_name] = column_data\n",
    "\n",
    "# # Display the new DataFrame\n",
    "# print(new_df)\n"
   ]
  },
  {
   "cell_type": "code",
   "execution_count": 11,
   "id": "74f8c94a",
   "metadata": {},
   "outputs": [
    {
     "data": {
      "text/plain": [
       "0     World Health Organization (WHO)\n",
       "1                             Dr Alex\n",
       "2                             Dr Alex\n",
       "3                             Dr Alex\n",
       "4                We are humanitarians\n",
       "5                   British Red Cross\n",
       "6                    AJAY STEVENS 🇯🇲📍\n",
       "7                       DeStorm Power\n",
       "8                         keelydelane\n",
       "9                      Melissa Schaub\n",
       "10                              craig\n",
       "11                   josh flowers ;))\n",
       "12               PuLakEsH NaTh CraCkR\n",
       "13                        Nate Norell\n",
       "14                            DexChew\n",
       "15                              rosie\n",
       "16                           Dr Malik\n",
       "17                      The Snob Cats\n",
       "18                     Sallie McCrary\n",
       "19                                NDJ\n",
       "20                     Vanessa Simeon\n",
       "21                             Adam W\n",
       "22                            margaux\n",
       "23                     Andri Ragettli\n",
       "24                       Kelsey sound\n",
       "25                         harrymckoy\n",
       "26                             nabela\n",
       "27                         Macrofying\n",
       "28                      Natalie Reese\n",
       "Name: author.nickname, dtype: object"
      ]
     },
     "execution_count": 11,
     "metadata": {},
     "output_type": "execute_result"
    }
   ],
   "source": [
    "nickname_column = df['author.nickname']\n",
    "nickname_column"
   ]
  },
  {
   "cell_type": "code",
   "execution_count": 13,
   "id": "24667ad0",
   "metadata": {},
   "outputs": [
    {
     "name": "stdout",
     "output_type": "stream",
     "text": [
      "Dr Alex                            3\n",
      "World Health Organization (WHO)    1\n",
      "Dr Malik                           1\n",
      "Macrofying                         1\n",
      "nabela                             1\n",
      "harrymckoy                         1\n",
      "Kelsey sound                       1\n",
      "Andri Ragettli                     1\n",
      "margaux                            1\n",
      "Adam W                             1\n",
      "Vanessa Simeon                     1\n",
      "NDJ                                1\n",
      "Sallie McCrary                     1\n",
      "The Snob Cats                      1\n",
      "rosie                              1\n",
      "DexChew                            1\n",
      "Nate Norell                        1\n",
      "PuLakEsH NaTh CraCkR               1\n",
      "josh flowers ;))                   1\n",
      "craig                              1\n",
      "Melissa Schaub                     1\n",
      "keelydelane                        1\n",
      "DeStorm Power                      1\n",
      "AJAY STEVENS 🇯🇲📍                   1\n",
      "British Red Cross                  1\n",
      "We are humanitarians               1\n",
      "Natalie Reese                      1\n",
      "Name: author.nickname, dtype: int64\n"
     ]
    }
   ],
   "source": [
    "nickname_counts = df['author.nickname'].value_counts()\n",
    "\n",
    "print(nickname_counts)\n"
   ]
  },
  {
   "cell_type": "code",
   "execution_count": 12,
   "id": "e68cc81f",
   "metadata": {},
   "outputs": [],
   "source": [
    "df.to_csv('output.csv', index=False)"
   ]
  },
  {
   "cell_type": "code",
   "execution_count": null,
   "id": "10374f09",
   "metadata": {},
   "outputs": [],
   "source": []
  },
  {
   "cell_type": "code",
   "execution_count": null,
   "id": "4ebcd4d0",
   "metadata": {},
   "outputs": [],
   "source": []
  },
  {
   "cell_type": "code",
   "execution_count": null,
   "id": "cf1fc3e9",
   "metadata": {},
   "outputs": [],
   "source": []
  },
  {
   "cell_type": "code",
   "execution_count": null,
   "id": "9e3f0a50",
   "metadata": {},
   "outputs": [],
   "source": []
  },
  {
   "cell_type": "code",
   "execution_count": null,
   "id": "053cbf85",
   "metadata": {},
   "outputs": [],
   "source": []
  }
 ],
 "metadata": {
  "kernelspec": {
   "display_name": "Python 3 (ipykernel)",
   "language": "python",
   "name": "python3"
  },
  "language_info": {
   "codemirror_mode": {
    "name": "ipython",
    "version": 3
   },
   "file_extension": ".py",
   "mimetype": "text/x-python",
   "name": "python",
   "nbconvert_exporter": "python",
   "pygments_lexer": "ipython3",
   "version": "3.9.5"
  }
 },
 "nbformat": 4,
 "nbformat_minor": 5
}
